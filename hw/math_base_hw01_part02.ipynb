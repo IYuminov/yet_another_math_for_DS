{
 "cells": [
  {
   "cell_type": "markdown",
   "metadata": {},
   "source": [
    "<center>\n",
    "    <img src=\"https://raw.githubusercontent.com/dvgodoy/PyTorch101_ODSC_Europe2020/master/images/linear_dogs.jpg\" height=\"400\" width=\"800\"> \n",
    "</center>  \n",
    "\n",
    "# Yet another math for DS course: домашнее задание 1"
   ]
  },
  {
   "cell_type": "markdown",
   "metadata": {},
   "source": [
    "**ФИО:** Юминов Иван Васильевич\n",
    "\n",
    "**Забавный факт о себе:** "
   ]
  },
  {
   "cell_type": "markdown",
   "metadata": {},
   "source": [
    "## Общая информация\n",
    "\n",
    "\n",
    "__Дата выдачи:__ 03.10.2023\n",
    "\n",
    "__Мягкий дедлайн:__ 23:59MSK 29.10.2023\n",
    "\n",
    "__Жёсткий дедлайн:__ 23:59MSK 05.11.2023"
   ]
  },
  {
   "cell_type": "markdown",
   "metadata": {},
   "source": [
    "## Формат сдачи\n",
    "\n",
    "Сам ноутбук называйте в формате hw-01-USERNAME.ipynb, где USERNAME — ваши фамилия и имя. Файл надо будет сдать в anytask."
   ]
  },
  {
   "cell_type": "markdown",
   "metadata": {},
   "source": [
    "## Оформление"
   ]
  },
  {
   "cell_type": "markdown",
   "metadata": {},
   "source": [
    "1. Be good, drink milk and [think of Russia](https://www.youtube.com/watch?v=jyxSFfBKMxQ)\n",
    "2. Обязательно фиксируйте зерно генератора случайных чисел в экспериментах. При перезапуске кода значения не должны меняться.\n",
    "3. Вверху файла подпишите фамилию, имя, группу и какой-то занимательный факт о себе.\n",
    "4. Обратите внимание, что у графиков должны быть подписаны оси, заголовок графика и при необходимости обязательно наличие легенды. \n",
    "\n",
    "> За отсутствие названий графиков и подписей к осям могут снижаться баллы. Все картинки должны быть самодостаточны и визуально удобны для восприятия, так чтобы не нужно было смотреть ваш код или знать задание, чтобы понять что на них изображено.\n",
    "\n",
    "\n",
    "Для каждого построенного графика делайте выводы. Эти выводы не должны быть поверхностными и очевидными. Не будьте мудрым королём.\n",
    "\n",
    "<br>\n",
    "\n",
    "<center>\n",
    "<img src=\"https://raw.githubusercontent.com/hse-econ-data-science/andan_2023/main/hw/king.png\" width=\"300\"> \n",
    "</center>\n",
    "\n",
    "**Пример плохого вывода:** Синенькая линия идет вверх, а красная вниз. Черненькая идет вниз, а потом вверх. \n",
    "\n",
    "<br>\n",
    "\n",
    "<center>\n",
    "<img src=\"https://raw.githubusercontent.com/hse-econ-data-science/andan_2023/main/hw/bad_lines.png\" width=\"600\"> \n",
    "</center>"
   ]
  },
  {
   "cell_type": "markdown",
   "metadata": {},
   "source": [
    "Это домашнее задание состоит из двух частей: \n",
    "\n",
    "- Часть с кодом\n",
    "- Часть с ручными задачами\n",
    "\n",
    "Часть с кодом должна быть оформлена на в юпитерской тетрадке. Весь код необходимо писать на python.\n",
    "\n",
    "Ручную часть можно решать на бумаге и оформить в виде отсканированной pdf-ки с разборчивым почерком. Можно вбить решение в виде формул прямо в юпитерскую тетрадку, можно сделать pdf-ку в техе."
   ]
  },
  {
   "cell_type": "markdown",
   "metadata": {},
   "source": [
    "## Часть 1: ручная\n",
    "\n",
    "За эту часть можно набрать 60 баллов. Также можно набрать бонусные 15 баллов. \n",
    "\n",
    "Условия задач [лежат по ссылке](https://github.com/FUlyankin/yet_another_math_for_DS/tree/main/hw)"
   ]
  },
  {
   "cell_type": "markdown",
   "metadata": {},
   "source": [
    "## Часть 2: пишем код\n",
    "\n",
    "За эту часть вы можете получить 40 обычных баллов и ещё 15 бонусных."
   ]
  },
  {
   "cell_type": "code",
   "execution_count": 10,
   "metadata": {},
   "outputs": [],
   "source": [
    "import numpy as np\n",
    "\n",
    "import scipy.linalg as sla\n",
    "\n",
    "import matplotlib.pyplot as plt\n",
    "%matplotlib inline"
   ]
  },
  {
   "cell_type": "markdown",
   "metadata": {},
   "source": [
    "## Задача №1: тупая механическая работа"
   ]
  },
  {
   "cell_type": "markdown",
   "metadata": {},
   "source": [
    "__[2 балла]__ Создайте диагональную матрицу $5\\times5$ с диагональными элементами 1, 2, 3, 4 и 5. \n",
    "\n",
    "- Найдите её след с помощью библиотечных функций. \n",
    "- Найдите обратную к ней матрицу."
   ]
  },
  {
   "cell_type": "code",
   "execution_count": 40,
   "metadata": {},
   "outputs": [
    {
     "name": "stdout",
     "output_type": "stream",
     "text": [
      "След матрицы: 15\n",
      "Обратная матрица: \n",
      " [[1.         0.         0.         0.         0.        ]\n",
      " [0.         0.5        0.         0.         0.        ]\n",
      " [0.         0.         0.33333333 0.         0.        ]\n",
      " [0.         0.         0.         0.25       0.        ]\n",
      " [0.         0.         0.         0.         0.2       ]]\n"
     ]
    }
   ],
   "source": [
    "diagonal = [1, 2, 3, 4, 5]\n",
    "matrix_diag = np.diag(diagonal)\n",
    "print('След матрицы:', np.trace(matrix_diag))\n",
    "print('Обратная матрица: \\n', np.linalg.inv(matrix_diag))"
   ]
  },
  {
   "cell_type": "markdown",
   "metadata": {},
   "source": [
    "__[3 балла]__ сгенерируйте случайную матрицу $X$ размера $4\\times5$\n",
    "\n",
    "- Найдите определитель подматрицы матрицы $X$, расположенной на пересечении 2 и 3 строки и 1 и 2 столбца; считаем, что строки и столбцы нумеруются с единицы (используйте slicing!). Такой определитель называется **минором** матрицы $X$.\n",
    "- Найдите произведение $X^TX$, найдите его определитель.\n"
   ]
  },
  {
   "cell_type": "code",
   "execution_count": 51,
   "metadata": {},
   "outputs": [
    {
     "name": "stdout",
     "output_type": "stream",
     "text": [
      "Исходная матрица: \n",
      " [[6 3 7 4 6]\n",
      " [9 2 6 7 4]\n",
      " [3 7 7 2 5]\n",
      " [4 1 7 5 1]]\n",
      "Подматрица составленная из элементов на пересечении 2 и 3 строки и 1 и 2 столбца матрицы Х: \n",
      " [[9 2]\n",
      " [3 7]]\n",
      "Минор второго порядка матрицы Х: 57.00000000000001\n"
     ]
    }
   ],
   "source": [
    "np.random.seed(42)\n",
    "matrix_random = np.random.randint (0, 10, (4, 5))\n",
    "\n",
    "print('Исходная матрица: \\n', matrix_random)\n",
    "print('Подматрица составленная из элементов на пересечении 2 и 3 строки и 1 и 2 столбца матрицы Х: \\n', matrix_random[1:3, 0:2])\n",
    "print('Минор второго порядка матрицы Х:', np.linalg.det(matrix_random[1:3, 0:2]))"
   ]
  },
  {
   "cell_type": "code",
   "execution_count": 50,
   "metadata": {},
   "outputs": [
    {
     "name": "stdout",
     "output_type": "stream",
     "text": [
      "Произведение: \n",
      " [[142  61 145 113  91]\n",
      " [ 61  63  89  45  62]\n",
      " [145  89 183 119 108]\n",
      " [113  45 119  94  67]\n",
      " [ 91  62 108  67  78]]\n",
      "Определитель: -3.832458373863979e-09\n"
     ]
    }
   ],
   "source": [
    "product = np.dot(matrix_random.transpose(), matrix_random)\n",
    "print('Произведение: \\n', product)\n",
    "print('Определитель:', np.linalg.det(product))"
   ]
  },
  {
   "cell_type": "markdown",
   "metadata": {
    "id": "WI_6RaU-moWp"
   },
   "source": [
    "##  Задача №2: время\n",
    "\n",
    "__[10 баллов]__ Питон мотивирует пользоваться библиотечными функциями, когда они доступны, а не писать собственные. Библиотечные функции основаны на современных алгоритмах, обычно пишутся на более эффективных языках, таких как C++ или Fortran, а кроме того, оптимизированы для работы на многопроцессорных устройствах, так что обогнать эти решения просто так вы не сможете.\n",
    "\n",
    "Мы предлагаем вам убедиться в этом самим. Напишите функцию `my_det`, которая вычисляла бы определитель матрицы с помощью элементарных преобразований над строками. Функция должна выкидывать `ValueError` в случаях, если матрица не является квадратной."
   ]
  },
  {
   "cell_type": "code",
   "execution_count": 209,
   "metadata": {
    "collapsed": true,
    "id": "7NgPQ2MtmoWq",
    "jupyter": {
     "outputs_hidden": true
    }
   },
   "outputs": [],
   "source": [
    "def my_det(X):\n",
    "\n",
    "    '''\n",
    "    Parameters\n",
    "    ----------\n",
    "    X : array_like\n",
    "    \n",
    "    Returns\n",
    "    -------\n",
    "    det : float\n",
    "        Determinant of `X`.\n",
    "    '''\n",
    "    # поверка размерности\n",
    "    if len(X) != len(X[0]):\n",
    "        raise ValueError('Передана НЕ квадратная матрица')\n",
    "    \n",
    "    # цикл побегается по элементам ниже главной диагонали и зануляет их \n",
    "    for row in range(len(X) - 1):\n",
    "        for col in range(row + 1, len(X)):\n",
    "            if X[row][row] != 0:\n",
    "                tmp = X[col][row] / X[row][row]\n",
    "            else:\n",
    "                break\n",
    "            for value in range(len(X[col])):\n",
    "                X[col][value] -= tmp * X[row][value]\n",
    "                \n",
    "    # значение определеителя \n",
    "    det = 1\n",
    "    for diag in range(len(X)):\n",
    "        det *= X[diag][diag]\n",
    "    return det"
   ]
  },
  {
   "cell_type": "markdown",
   "metadata": {
    "id": "YO72m_XsmoWq"
   },
   "source": [
    "Простая проверка:"
   ]
  },
  {
   "cell_type": "code",
   "execution_count": 210,
   "metadata": {
    "collapsed": true,
    "id": "3TUlLYOLmoWq",
    "jupyter": {
     "outputs_hidden": true
    }
   },
   "outputs": [
    {
     "name": "stdout",
     "output_type": "stream",
     "text": [
      "[[0 0 1]\n",
      " [0 1 0]\n",
      " [1 0 0]]\n",
      "0\n"
     ]
    }
   ],
   "source": [
    "# Запустите этот блок кода\n",
    "X = np.array([[0,0,1], [0,1,0], [1,0,0]])\n",
    "print(X)\n",
    "print(my_det(X))"
   ]
  },
  {
   "cell_type": "markdown",
   "metadata": {
    "id": "N1vKEClLmoWq"
   },
   "source": [
    "На случай, если нам просто повезло с этой матрицей, имеет смысл написать чуть более хитрые тесты. Мы сгенерируем несколько случайных матриц $8\\times8$ с помощью функции `numpy.random.rand` и сравним ответ, выдаваемый нашей функцией, с настоящим определителем (результатом работы библиотечной функции `scipy.linalg.det`):"
   ]
  },
  {
   "cell_type": "code",
   "execution_count": 211,
   "metadata": {
    "collapsed": true,
    "id": "EkyYxvUSmoWq",
    "jupyter": {
     "outputs_hidden": true
    }
   },
   "outputs": [],
   "source": [
    "# Запустите этот блок кода\n",
    "for _ in range(10):\n",
    "    X = np.random.rand(8,8)\n",
    "    if np.abs(my_det(X) - sla.det(X)) > 1e-6:\n",
    "        print('FAILED')"
   ]
  },
  {
   "cell_type": "markdown",
   "metadata": {
    "id": "ezkmq4MRmoWr"
   },
   "source": [
    "Если вы ни разу не получили `FAILED`, то ваша функция работает правильно. "
   ]
  },
  {
   "cell_type": "markdown",
   "metadata": {
    "id": "7DYtTKT7moWr"
   },
   "source": [
    "Теперь давайте сравним скорость работы вашей функции и библиотечной функции `scipy.linalg.det`. В Питоне есть несколько способов измерения времени; мы воспользуемся декоратором `%timeit`. Будучи написан перед функцией, он запускает её некоторое количество раз, выбирает три случайных запуска и возвращает длительность самого быстрого из них. Модификатор `-o` между декоратором и функцией позволяет сохранять результаты работы декоратора в переменную.\n",
    "\n",
    "Приготовьтесь, что следующий блок может работать сравнительно долго."
   ]
  },
  {
   "cell_type": "code",
   "execution_count": 208,
   "metadata": {
    "collapsed": true,
    "id": "PJpkg2BHmoWr",
    "jupyter": {
     "outputs_hidden": true
    }
   },
   "outputs": [
    {
     "name": "stdout",
     "output_type": "stream",
     "text": [
      "4.9 µs ± 64.7 ns per loop (mean ± std. dev. of 7 runs, 100,000 loops each)\n",
      "161 µs ± 3.48 µs per loop (mean ± std. dev. of 7 runs, 10,000 loops each)\n",
      "The slowest run took 402.71 times longer than the fastest. This could mean that an intermediate result is being cached.\n",
      "24.9 ms ± 27 ms per loop (mean ± std. dev. of 7 runs, 10 loops each)\n",
      "152 ms ± 3.01 ms per loop (mean ± std. dev. of 7 runs, 10 loops each)\n",
      "20.2 ms ± 5.91 ms per loop (mean ± std. dev. of 7 runs, 100 loops each)\n"
     ]
    },
    {
     "name": "stderr",
     "output_type": "stream",
     "text": [
      "/var/folders/2y/f622hvs91813n30s1s3ck3j40000gq/T/ipykernel_91726/3877556322.py:32: RuntimeWarning: overflow encountered in scalar multiply\n",
      "  det *= X[diag][diag]\n"
     ]
    },
    {
     "name": "stdout",
     "output_type": "stream",
     "text": [
      "2min 25s ± 1.44 s per loop (mean ± std. dev. of 7 runs, 1 loop each)\n"
     ]
    },
    {
     "data": {
      "image/png": "[encoded data removed]",
      "text/plain": [
       "<Figure size 640x480 with 1 Axes>"
      ]
     },
     "metadata": {},
     "output_type": "display_data"
    }
   ],
   "source": [
    "# Запустите этот блок кода\n",
    "lib_times = []\n",
    "my_times = []\n",
    "dimensions = [10, 100, 1000]\n",
    "for dim in dimensions:\n",
    "    A = np.random.rand(dim, dim)\n",
    "    res_lib = %timeit -o sla.det(A)\n",
    "    lib_times.append(res_lib.best)\n",
    "    res_my = %timeit -o my_det(A)\n",
    "    my_times.append(res_my.best)    \n",
    "\n",
    "plt.plot(dimensions, lib_times, color='blue', label='Library function')\n",
    "plt.plot(dimensions, my_times, color='red', label='My function')\n",
    "plt.title('My function vs library function, log y scale')\n",
    "plt.ylabel('Time')\n",
    "plt.xlabel('Matrix dimension')\n",
    "plt.legend();"
   ]
  },
  {
   "cell_type": "markdown",
   "metadata": {
    "id": "NFIB6OHAmoWr"
   },
   "source": [
    "У вас должны были получиться графики, показывающие, как растёт с ростом размерности матрицы время вычисления определителя. Поскольку они вышли не больно-то красивыми, мы нарисуем их в *логарифмическом масштабе* по оси у:"
   ]
  },
  {
   "cell_type": "code",
   "execution_count": 203,
   "metadata": {
    "collapsed": true,
    "id": "GkgijRiWmoWr",
    "jupyter": {
     "outputs_hidden": true
    }
   },
   "outputs": [
    {
     "data": {
      "image/png": "[encoded data removed]",
      "text/plain": [
       "<Figure size 640x480 with 1 Axes>"
      ]
     },
     "metadata": {},
     "output_type": "display_data"
    }
   ],
   "source": [
    "# Запустите этот блок кода\n",
    "plt.semilogy(dimensions, lib_times, color='blue', label='Library function')\n",
    "plt.semilogy(dimensions, my_times, color='red', label='My function')\n",
    "plt.title('My function vs library function, log y scale')\n",
    "plt.ylabel('Time')\n",
    "plt.xlabel('Matrix dimension')\n",
    "plt.legend();"
   ]
  },
  {
   "cell_type": "markdown",
   "metadata": {
    "id": "vH8mtr3JmoWr"
   },
   "source": [
    "Вы можете убедиться, что библиотечная функция работает *гораздо* быстрее."
   ]
  },
  {
   "cell_type": "markdown",
   "metadata": {},
   "source": [
    "##  Задача №3: точность\n",
    "\n",
    "__[10 баллов]__ Наверняка вы уже что-то знаете про floating point arithmetics и связанные с этим трудности и понимаете, что на компьютере вычисления с вещественными числами производятся лишь с ограниченной точностью. "
   ]
  },
  {
   "cell_type": "markdown",
   "metadata": {},
   "source": [
    "В качестве первого примера, показывающего различие между длинной арифметикой целых чисел и floating point arithmetics, предлагаем вам перемножить две пары матриц:\n",
    "\n",
    "$$\n",
    "\\begin{pmatrix}\n",
    "1 & 0\\\\\n",
    "10^{20} & 1\n",
    "\\end{pmatrix}\n",
    "\\cdot\n",
    "\\begin{pmatrix}\n",
    "10^{-20} & 1\\\\\n",
    "0 & 1 - 10^{20}\n",
    "\\end{pmatrix}\n",
    "$$\n",
    "и\n",
    "$$\n",
    "\\begin{pmatrix}\n",
    "1. & 0.\\\\\n",
    "10.^{20} & 1.\n",
    "\\end{pmatrix}\n",
    "\\cdot\n",
    "\\begin{pmatrix}\n",
    "10.^{-20} & 1.\\\\\n",
    "0. & 1. - 10.^{20}\n",
    "\\end{pmatrix}\n",
    "$$\n",
    "Во втором случае мы специально указали Питону (поставив везде десятичные точки), что хотим работать не с целыми числами, а с числами с плавающей точкой. Посмотрим, получатся ли одинаковые ответы:"
   ]
  },
  {
   "cell_type": "code",
   "execution_count": 301,
   "metadata": {},
   "outputs": [
    {
     "name": "stdout",
     "output_type": "stream",
     "text": [
      "[[1e-20 1]\n",
      " [1.0 1]]\n"
     ]
    }
   ],
   "source": [
    "matrix_int_1 = np.array([[1, 0], [10**20, 1]])\n",
    "matrix_int_2 = np.array([[10**-20, 1], [0, 1 - 10**20]])\n",
    "\n",
    "matrix_int_product = np.dot(matrix_int_1, matrix_int_2)\n",
    "\n",
    "print(matrix_int_product)"
   ]
  },
  {
   "cell_type": "code",
   "execution_count": 304,
   "metadata": {
    "collapsed": true,
    "id": "_zUpUvbGmoWs",
    "jupyter": {
     "outputs_hidden": true
    }
   },
   "outputs": [
    {
     "name": "stdout",
     "output_type": "stream",
     "text": [
      "[[1.e-20 1.e+00]\n",
      " [1.e+00 0.e+00]]\n"
     ]
    }
   ],
   "source": [
    "matrix_float_1 = np.array([[1., 0.], [10. ** 20, 1.]])\n",
    "matrix_float_2 = np.array([[10. ** -20, 1], [0., 1. - 10. ** 20]])\n",
    "\n",
    "matrix_float_product = np.dot(matrix_float_1, matrix_float_2)\n",
    "\n",
    "print(matrix_float_product)"
   ]
  },
  {
   "cell_type": "markdown",
   "metadata": {
    "id": "G7ht2QTUmoWs"
   },
   "source": [
    "И какой из них правильный?\n",
    "\n",
    "**Ответ:** верным будет произведение полученное при использование int значений матриц"
   ]
  },
  {
   "cell_type": "markdown",
   "metadata": {
    "id": "C3IKhXXMmoWs"
   },
   "source": [
    "Впрочем, и с целыми числами тоже не всегда всё хорошо. Напишите функцию, генерирующую *матрицу Паскаля* заданной размерности $n$, то есть матрицу $P$, в которой $P_{ij} = C_{i+j}^i$. В этом задании нельзя пользоваться библиотечной функцией `scipy.linalg.pascal` или её аналогами из других библиотек. Обратите внимание, что использование факториалов крайне нежелательно, так как быстро приведёт к переполнению.\n",
    "\n",
    "В этом задании вы можете использовать цикл ``for``."
   ]
  },
  {
   "cell_type": "code",
   "execution_count": 337,
   "metadata": {
    "collapsed": true,
    "id": "PxD1ahvPmoWs",
    "jupyter": {
     "outputs_hidden": true
    }
   },
   "outputs": [
    {
     "data": {
      "text/plain": [
       "array([[ 1,  1,  1,  1,  1],\n",
       "       [ 1,  2,  3,  4,  5],\n",
       "       [ 1,  3,  6, 10, 15],\n",
       "       [ 1,  4, 10, 20, 35],\n",
       "       [ 1,  5, 15, 35, 70]])"
      ]
     },
     "execution_count": 337,
     "metadata": {},
     "output_type": "execute_result"
    }
   ],
   "source": [
    "def my_pascal(dim):\n",
    "    '''\n",
    "    Мы создали для вас матрицу из нулей размера dim x dim,\n",
    "    но вы можете ей не пользоваться, если не хотите\n",
    "    '''\n",
    "    P = np.full((dim, dim), 1)\n",
    "    for row in range(1, dim):\n",
    "        for col in range(1, dim):\n",
    "            P[row][col] = P[row - 1][col] + P[row][col - 1]\n",
    "    return P\n",
    "\n",
    "my_pascal(5)"
   ]
  },
  {
   "cell_type": "markdown",
   "metadata": {
    "id": "3P0Kz6MomoWs"
   },
   "source": [
    "Чему равен определитель такой матрицы в теории?\n",
    "\n",
    "**Ответ:**"
   ]
  },
  {
   "cell_type": "markdown",
   "metadata": {
    "id": "bvz9Wst_moWs"
   },
   "source": [
    "А теперь вычислите определитель матрицы Паскаля $30\\times30$ с помощью библиотечной функции `scipy.linalg.det`:"
   ]
  },
  {
   "cell_type": "code",
   "execution_count": null,
   "metadata": {
    "collapsed": true,
    "id": "mz2uAjjEmoWs",
    "jupyter": {
     "outputs_hidden": true
    }
   },
   "outputs": [],
   "source": []
  },
  {
   "cell_type": "markdown",
   "metadata": {
    "id": "8ZM9w60nmoWs"
   },
   "source": [
    "Разница заметна невооружённым взглядом!"
   ]
  },
  {
   "cell_type": "markdown",
   "metadata": {
    "id": "HjL92lAzmoWt"
   },
   "source": [
    "##  Задача №4: матричные вычисления"
   ]
  },
  {
   "cell_type": "markdown",
   "metadata": {
    "id": "_tKBETFbmoWt"
   },
   "source": [
    "Вы уже видели, что использования циклов (и самописных вычислений в целом) в Питоне лучше по возможности избегать и важно уметь находить способы делать всё библиотечными средствами.\n",
    "\n",
    "В качестве примера рассмотрим две задачи:\n",
    "\n",
    "**1.** Предположим, нужно вычислить суммы элементов в каждой строке матрицы `A`. Ясно, что можно написать простую функцию с двумя циклами, которая это посчитает, но так лучше не делать. Правильный способ такой:\n",
    "```\n",
    "A.sum(axis=1)\n",
    "```\n",
    "Параметр `axis=1` означает, что суммы берутся по строкам. Если вы хотите просуммировать по столбцам, укажите `axis=0`. Если вообще пропустить параметр `axis` (вызвать `A.sum()`), то функция вернёт сумму *всех* элементов матрицы.\n",
    "\n",
    "**2.** Теперь допустим, что нам нужно каждый столбец матрицы `A` умножить на некоторое число. Более точно, пусть у нас есть (одномерный) вектор `w = np.array([w_1,...,w_n])`, и мы должны `i`-й столбец `A` умножить на число `w_i`. Опять же, это можно сделать в пару циклов, но лучше использовать операцию поэлементного умножения:\n",
    "```\n",
    "A * w.reshape((1,n))\n",
    "```\n",
    "Оператор `reshape` нужен для того, чтобы из одномерного вектора сделать вектор-строку.\n",
    "\n",
    "Аналогично, если на числа `w_1,...,w_n` умножаются *строки* матрицы, нужно превратить `w` в вектор-столбец:\n",
    "```\n",
    "A * w.reshape((n,1))\n",
    "```"
   ]
  },
  {
   "cell_type": "markdown",
   "metadata": {
    "id": "cDc9PzhHmoWt"
   },
   "source": [
    "Дальше вам будет предложено попрактиковаться в матричных вычислениях. В следующих трёх заданиях нельзя пользоваться циклами, а также конструкциями `map` и `reduce` и им подобными; вместо этого постарайтесь свести всё к матричным операциям из `numpy` (но, опять же, не `np.vectorize` или чему-то подобному). Чтобы убедиться, что получилось именно то, что нужно, пишите собственные тесты со случайными матрицами."
   ]
  },
  {
   "cell_type": "markdown",
   "metadata": {
    "id": "Q6MLfLDToM8y"
   },
   "source": [
    "Не забудьте написать тесты, которые будут проверять корректность ваших функций."
   ]
  },
  {
   "cell_type": "markdown",
   "metadata": {
    "id": "YT5HrPv_moWt"
   },
   "source": [
    "**[5 баллов]** Напишите функцию `prod_and_sq_sum(A)`, вычисляющую произведение и сумму квадратов диагональных элементов квадратной матрицы `A`."
   ]
  },
  {
   "cell_type": "code",
   "execution_count": null,
   "metadata": {
    "collapsed": true,
    "id": "Ocn0DLI4moWt",
    "jupyter": {
     "outputs_hidden": true
    }
   },
   "outputs": [],
   "source": [
    "# your code here\n",
    "# ٩(x̯x)۶"
   ]
  },
  {
   "cell_type": "markdown",
   "metadata": {
    "id": "DxShkE1UmoWt"
   },
   "source": [
    "**[5 баллов]** Для матриц `A` и `B` размера $m\\times n$ обозначим через $a_1,\\ldots,a_n$ и $b_1,\\ldots,b_n$ соответственно их столбцы. Напишите функцию `f(A, B, k)`, вычисляющую\n",
    "\n",
    "$$\\sum_{i=1}^{\\min(k,m)}a_ib_i^T$$"
   ]
  },
  {
   "cell_type": "code",
   "execution_count": null,
   "metadata": {
    "collapsed": true,
    "id": "g1vaeLvkmoWu",
    "jupyter": {
     "outputs_hidden": true
    }
   },
   "outputs": [],
   "source": [
    "# your code here\n",
    "# ( ͡⊙ ͜ʖ ͡⊙)"
   ]
  },
  {
   "cell_type": "markdown",
   "metadata": {
    "id": "EUiRcVJdmoWu"
   },
   "source": [
    "**[5 баллов]** Напишите функцию `get_diag(A,B)`, принимающую две квадратных матрицы `A` и `B` одного размера и возвращающую вектор диагональных элементов произведения `AB`, не вычисляя произведение целиком. "
   ]
  },
  {
   "cell_type": "code",
   "execution_count": null,
   "metadata": {
    "collapsed": true,
    "id": "qF7VVHrhmoWu",
    "jupyter": {
     "outputs_hidden": true
    }
   },
   "outputs": [],
   "source": [
    "# your code here\n",
    "# (っ˘ڡ˘ς) "
   ]
  },
  {
   "cell_type": "markdown",
   "metadata": {
    "id": "H9iZAF6TmoWw"
   },
   "source": [
    "##  Задача №5 (бонусная): Метод Гаусса или обратные матрицы?\n",
    "\n",
    "__[15 баллов]__ Баллы за эту задачу считаются бонусными. То есть за дз в сумме можно набрать 115 баллов."
   ]
  },
  {
   "cell_type": "markdown",
   "metadata": {
    "id": "1liSd6SwmoWw"
   },
   "source": [
    "Пусть нам дано матричное уравнение $Ax = B$, где $A$ &mdash; матрица размера $n\\times n$, а $B$ &mdash; матрица размера $n\\times m$ (отметим, что это уравнение можно интерпретировать как $m$ систем с векторными правыми частями и одинаковыми левыми). Вообще говоря, методов решения таких уравнений очень много, но мы пока рассмотрим два из них, с которыми вы уже хорошо знакомы.\n",
    "1. Метод Гаусса;\n",
    "2. Умножение на обратную матрицу: $x = A^{-1}B$.\n",
    "\n",
    "В этом задании вы попробуете ответить на вопрос о том, какой из этих методов эффективнее. Проведите два эксперимента:\n",
    "- сравните скорости решения системы при фиксированном `m = 10` и `n`, изменяющемся в пределах от 10 до 1000; например, для `n=10, 50, 100, 200, 500, 1000` (рост числа неизвестных при фиксированном количестве правых частей);\n",
    "- сравните скорости решения системы при фиксированном `n = 100` и `m`, меняющемся от 10 до 10000; например, для `m = 10, 100, 500, 1000, 2000, 5000, 10000` (рост числа правых частей при фиксированном числе неизвестных).\n",
    "\n",
    "При проведении экспериментов не возбраняется использовать циклы `for`.\n",
    "\n",
    "Эксперименты проведите на случайных матрицах, созданных с помощью функции `numpy.random.rand`. Постройте графики времени выполнения функции от размерности (лучше в логарифмическом масштабе). Сделайте выводы (в письменном виде!) о том, какой их методов оказывается лучше в каких обстоятельствах.\n",
    "\n",
    "Чтобы всё это не казалось вам чёрной магией, найдите число операций (суммарно сложения, умножения и деления), необходимых для решения системы каждым из методов. Обратите внимание на члены суммарной степени 3 (суммарной по $m$ и $n$; члены меньшего порядка можете даже не считать). Постарайтесь объяснить полученные ранее результаты."
   ]
  },
  {
   "cell_type": "code",
   "execution_count": null,
   "metadata": {
    "collapsed": true,
    "id": "LlZPR661moWw",
    "jupyter": {
     "outputs_hidden": true
    }
   },
   "outputs": [],
   "source": [
    "# your code here\n",
    "# ٩(ˊ〇ˋ*)و"
   ]
  }
 ],
 "metadata": {
  "colab": {
   "provenance": []
  },
  "kernelspec": {
   "display_name": "Python 3 (ipykernel)",
   "language": "python",
   "name": "python3"
  },
  "language_info": {
   "codemirror_mode": {
    "name": "ipython",
    "version": 3
   },
   "file_extension": ".py",
   "mimetype": "text/x-python",
   "name": "python",
   "nbconvert_exporter": "python",
   "pygments_lexer": "ipython3",
   "version": "3.9.13"
  }
 },
 "nbformat": 4,
 "nbformat_minor": 4
}
