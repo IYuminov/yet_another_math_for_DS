{
 "cells": [
  {
   "cell_type": "markdown",
   "id": "c049d69b",
   "metadata": {},
   "source": [
    "# Численные методы линейной алгебры"
   ]
  },
  {
   "cell_type": "code",
   "execution_count": 1,
   "id": "32cf65a1",
   "metadata": {},
   "outputs": [],
   "source": [
    "import numpy as np\n",
    "import scipy\n",
    "\n",
    "import scipy.linalg as sla\n",
    "import scipy.sparse as sps\n",
    "import scipy.sparse.linalg as spla"
   ]
  },
  {
   "cell_type": "markdown",
   "id": "9d9d9b55",
   "metadata": {},
   "source": [
    "## Ресурс №1: время\n",
    "\n",
    "Python стимулирует не писать циклы, а использовать матричные вычисления"
   ]
  },
  {
   "cell_type": "markdown",
   "id": "d7513fc0",
   "metadata": {},
   "source": [
    "## Ресурс №2: память\n",
    "\n",
    "- параллельные вычисления\n",
    "- купить GPU покруче\n",
    "- но если в матрице много нулей - разреженные матрицы"
   ]
  },
  {
   "cell_type": "markdown",
   "id": "c2c55b8a",
   "metadata": {},
   "source": [
    "Форматы разреженных матриц:\n",
    "\n",
    "**Dictionary of Keys (DOK) - словарь (i,j): element**\n",
    "\n",
    "- быстрое добавление элементов с произвольными индексами\n",
    "- любые другие операции будут производиться медленно\n"
   ]
  },
  {
   "cell_type": "markdown",
   "id": "b7614653",
   "metadata": {},
   "source": [
    "**List of Lists (LIL) -** матрица хранится построчно: в виде двух массивов $[l_1, \\ldots, l_s]$ и $[v_1, \\ldots, v_s],$ где $l_i$ - список ноеров столбцов, в которых в $i$-ой строке находится ненулевой элемент, а $v_i$ - список соотвествующих значений.\n",
    "\n",
    "- добавление за линейное время\n",
    "- быстрый доступ к строкам матрицы\n",
    "- может требовать слишком много памяти (для создания матриц повышенной плотности используйте COO)"
   ]
  },
  {
   "cell_type": "markdown",
   "id": "16ff6141",
   "metadata": {},
   "source": [
    "__Coordinate List (COO)__ - хранятся тройки (row, column, value) или три массива rows, columns, values. При этом тройка с одинаковым началом `(row, column)` может быть не одна; при преобразовании к другому типу значения `value` суммируются.\n",
    "\n",
    "- быстрое добавление новых элементов\n",
    "- для всего остального лучше перевести в другой формат \n",
    "- не предоставляет произвольного доступа к элементам\n",
    "- в некоторых случаях может занимать места даже больше, чем обычная (не разреженная) матрица той же размерности."
   ]
  },
  {
   "cell_type": "markdown",
   "id": "16132626",
   "metadata": {},
   "source": [
    "**Compressed Sparse Row/Column storage (CRS/CSC)** - разберём на примере CSR. Хранятся три массива: `values, indptr` и `indices`. В массиве `values` хранятся все ненулевые элементы матрицы, упорядоченные по индексам лексикографически; \n",
    "\n",
    "`indptr[i]` - индекс начала $i-$ой строки, `indices[indptr[i]:indptr[i + 1] - 1]` - номера столбцов соответствующих элементов.\n",
    "\n",
    "- быстрое выполнение арифметических операций\n",
    "- быстрый доступ к строкам для CSR и к столбцам для CSC\n",
    "- очень медленный доступ к столбцам для CSR и к строкам для CSC\n",
    "- медленное добавление/удаление элементов"
   ]
  },
  {
   "cell_type": "markdown",
   "id": "04054251",
   "metadata": {},
   "source": [
    "Главный вывод - не надо один и тот же формат использовать для разных целей!\n",
    "\n",
    "- [Больше про разреженные матрицы](https://matteding.github.io/2019/04/25/sparse-matrices/)"
   ]
  },
  {
   "cell_type": "markdown",
   "id": "8fdeee89",
   "metadata": {},
   "source": [
    "У разреженных матриц всё не как у обычных:\n",
    "\n",
    "| Обычные матрицы               | Разреженные матрицы    |\n",
    "|:------------------------------|:-----------------------|\n",
    "| `A + 1`                       | Не определено!         |\n",
    "| `A * B`                       | `A.multiply(B)`        |\n",
    "| `A ** 3`                      | `A.power(3)`           |\n",
    "| `A.dot(B)`                    | `A.dot(B)` или `A*B`   |\n",
    "| `np.linalg.matrix_power(A, 3)`| `A**3`                 |\n",
    "| `np.eye(n)`                   | `spla.identity(n)`     |\n",
    "| `np.zeros((m,n))`             | `sps.???_matrix((m,n))`|"
   ]
  },
  {
   "cell_type": "markdown",
   "id": "c5f8302b",
   "metadata": {},
   "source": [
    "Пример: работа с текстами"
   ]
  },
  {
   "cell_type": "code",
   "execution_count": 81,
   "id": "f7644a28",
   "metadata": {},
   "outputs": [
    {
     "data": {
      "text/plain": [
       "array(['and', 'document', 'first', 'is', 'one', 'second', 'the', 'third',\n",
       "       'this'], dtype=object)"
      ]
     },
     "execution_count": 81,
     "metadata": {},
     "output_type": "execute_result"
    }
   ],
   "source": [
    "from sklearn.feature_extraction.text import TfidfVectorizer\n",
    "\n",
    "corpus = [\n",
    "    'This is the first document.',\n",
    "    'This document is the second document.',\n",
    "    'And this is the third one.',\n",
    "    'Is this the first document?',\n",
    "]\n",
    "\n",
    "vectorizer = TfidfVectorizer()\n",
    "X = vectorizer.fit_transform(corpus)\n",
    "vectorizer.get_feature_names_out()"
   ]
  },
  {
   "cell_type": "code",
   "execution_count": 82,
   "id": "c2f72532",
   "metadata": {},
   "outputs": [
    {
     "data": {
      "text/plain": [
       "<4x9 sparse matrix of type '<class 'numpy.float64'>'\n",
       "\twith 21 stored elements in Compressed Sparse Row format>"
      ]
     },
     "execution_count": 82,
     "metadata": {},
     "output_type": "execute_result"
    }
   ],
   "source": [
    "X"
   ]
  },
  {
   "cell_type": "code",
   "execution_count": 83,
   "id": "9ca2e18f",
   "metadata": {},
   "outputs": [
    {
     "data": {
      "text/plain": [
       "array([[0.        , 0.46979139, 0.58028582, 0.38408524, 0.        ,\n",
       "        0.        , 0.38408524, 0.        , 0.38408524],\n",
       "       [0.        , 0.6876236 , 0.        , 0.28108867, 0.        ,\n",
       "        0.53864762, 0.28108867, 0.        , 0.28108867],\n",
       "       [0.51184851, 0.        , 0.        , 0.26710379, 0.51184851,\n",
       "        0.        , 0.26710379, 0.51184851, 0.26710379],\n",
       "       [0.        , 0.46979139, 0.58028582, 0.38408524, 0.        ,\n",
       "        0.        , 0.38408524, 0.        , 0.38408524]])"
      ]
     },
     "execution_count": 83,
     "metadata": {},
     "output_type": "execute_result"
    }
   ],
   "source": [
    "X.toarray() # преобразование разреженной матрицы в обычную"
   ]
  },
  {
   "cell_type": "markdown",
   "id": "13be3a30",
   "metadata": {},
   "source": [
    "## Ресурс №3: точность"
   ]
  },
  {
   "cell_type": "code",
   "execution_count": 4,
   "id": "634328b1",
   "metadata": {},
   "outputs": [
    {
     "data": {
      "text/plain": [
       "False"
      ]
     },
     "execution_count": 4,
     "metadata": {},
     "output_type": "execute_result"
    }
   ],
   "source": [
    "0.4 - 0.1 == 0.3"
   ]
  },
  {
   "cell_type": "code",
   "execution_count": 3,
   "id": "681b6fb5",
   "metadata": {},
   "outputs": [
    {
     "data": {
      "text/plain": [
       "0.30000000000000004"
      ]
     },
     "execution_count": 3,
     "metadata": {},
     "output_type": "execute_result"
    }
   ],
   "source": [
    "0.4 - 0.1 "
   ]
  },
  {
   "cell_type": "code",
   "execution_count": 6,
   "id": "ace7deb9",
   "metadata": {},
   "outputs": [
    {
     "data": {
      "text/plain": [
       "True"
      ]
     },
     "execution_count": 6,
     "metadata": {},
     "output_type": "execute_result"
    }
   ],
   "source": [
    "a = 0.4 - 0.1 \n",
    "np.abs(a - 0.3) < 1e-16"
   ]
  },
  {
   "cell_type": "markdown",
   "id": "a59e2954",
   "metadata": {},
   "source": [
    "Все знают, что: \n",
    "\n",
    "- Матрица $A^TA$ всегда неотрицательно определена\n",
    "- Если $Q$ и $R$ получены из $A$ с помощью ортогонализации Грамма-Шмидта, то $Q$ ортогональная и $A = QR$\n",
    "- Композиция softmax \n",
    "\n",
    "$$\n",
    "(x_1, \\ldots, x_n) \\to \\left( \\frac{e^{x_1}}{\\sum_i e^{x_i}}, \\ldots,  \\frac{e^{x_n}}{\\sum_i e^{x_i}} \\right)\n",
    "$$\n",
    "\n",
    "и кроссэнтропии\n",
    "\n",
    "$$\n",
    "(p_1, \\ldots, p_n, y_1, \\ldots, y_n) \\to - \\sum_i y_i \\ln p_i\n",
    "$$\n",
    "\n",
    "всегда определена. \n",
    "\n",
    "Но это всё неправда! Любой алгоритм работает с некоторой точностью."
   ]
  },
  {
   "cell_type": "code",
   "execution_count": 28,
   "id": "b0504531",
   "metadata": {},
   "outputs": [
    {
     "name": "stdout",
     "output_type": "stream",
     "text": [
      "5.949258293181063e-14\n"
     ]
    }
   ],
   "source": [
    "import numpy as np\n",
    "\n",
    "k = 60\n",
    "A = np.random.randint(10, size=(k,k))\n",
    "A_inv = np.linalg.inv(A)\n",
    "\n",
    "# print(A, '\\n')\n",
    "# print(A_inv, '\\n')\n",
    "# print(np.eye(k), '\\n')\n",
    "\n",
    "print(np.linalg.norm(A @ A_inv - np.eye(k)))"
   ]
  },
  {
   "cell_type": "code",
   "execution_count": 36,
   "id": "427c659c",
   "metadata": {},
   "outputs": [
    {
     "data": {
      "text/plain": [
       "1.067662871904967e-14"
      ]
     },
     "execution_count": 36,
     "metadata": {},
     "output_type": "execute_result"
    }
   ],
   "source": [
    "n = 20\n",
    "\n",
    "A = np.random.rand(n, n)\n",
    "A = A.T @ A # симметричная матрица\n",
    "L = np.linalg.cholesky(A)\n",
    "\n",
    "# print(A, '\\n')\n",
    "# print(L, '\\n')\n",
    "\n",
    "np.linalg.norm(L @ L.T - A)"
   ]
  },
  {
   "cell_type": "code",
   "execution_count": 37,
   "id": "06666435",
   "metadata": {},
   "outputs": [
    {
     "data": {
      "text/plain": [
       "8.495926837474684e-15"
      ]
     },
     "execution_count": 37,
     "metadata": {},
     "output_type": "execute_result"
    }
   ],
   "source": [
    "import scipy.linalg as splin\n",
    "P, L, U = splin.lu(A)\n",
    "\n",
    "np.linalg.norm(P @ L @ U - A)"
   ]
  },
  {
   "cell_type": "markdown",
   "id": "8a38079b",
   "metadata": {},
   "source": [
    "## Пример 1: решение систем\n",
    "\n",
    "Поэкспериментируем с поиском обратной матрицы."
   ]
  },
  {
   "cell_type": "code",
   "execution_count": 63,
   "id": "00cabaad",
   "metadata": {},
   "outputs": [],
   "source": [
    "n = 1000\n",
    "A = [[1/(i + j + 1) for i in range(n)] for j in range(n)]\n",
    "A = np.array(A)\n",
    "\n",
    "# print(A, '\\n')\n",
    "# print(np.linalg.inv(A), '\\n')\n",
    "\n",
    "rhs = np.random.randn(n)    # right hand side\n",
    "x = np.linalg.solve(A, rhs) # this function compute LU factorization and solves linear system "
   ]
  },
  {
   "cell_type": "code",
   "execution_count": 64,
   "id": "34405cee",
   "metadata": {},
   "outputs": [
    {
     "name": "stdout",
     "output_type": "stream",
     "text": [
      "48.11170925152422\n"
     ]
    }
   ],
   "source": [
    "#And check if ecerything is fine\n",
    "er = np.linalg.norm(A.dot(x) - rhs)/np.linalg.norm(rhs)\n",
    "print(er) # 10^{-12} потеряли 4 знака в точности тк она 10^{-16}"
   ]
  },
  {
   "cell_type": "code",
   "execution_count": 65,
   "id": "11dc86b1",
   "metadata": {},
   "outputs": [
    {
     "data": {
      "image/png": "[encoded data removed]",
      "text/plain": [
       "<Figure size 640x480 with 1 Axes>"
      ]
     },
     "metadata": {},
     "output_type": "display_data"
    }
   ],
   "source": [
    "import matplotlib.pyplot as plt\n",
    "\n",
    "# увеличиваем n в ячейках выше\n",
    "# тут будет видно что компоненты решения растут по модулю, это сигнал\n",
    "# что что-то не так и у нас есть проблемы\n",
    "plt.scatter(list(range(n)), x)\n",
    "plt.grid(True)"
   ]
  },
  {
   "cell_type": "markdown",
   "id": "40de1358",
   "metadata": {},
   "source": [
    "Следует ли из этого, что алгоритм Гаусса будет неустойчивым? Нет. Это свойство матрицы. Какую бы мы не взяли, у нас всегда будет плохое решение. "
   ]
  },
  {
   "cell_type": "markdown",
   "id": "64a23aa2",
   "metadata": {},
   "source": [
    "## Пример 2: QR-разложение"
   ]
  },
  {
   "cell_type": "markdown",
   "id": "cef017b3",
   "metadata": {},
   "source": [
    "$$\n",
    "A = QR\n",
    "$$"
   ]
  },
  {
   "cell_type": "code",
   "execution_count": 75,
   "id": "5f7ef2bf",
   "metadata": {},
   "outputs": [],
   "source": [
    "R_0 = np.triu(np.random.randn(50, 50))\n",
    "Q_0, _ = sla.qr(np.random.randn(50, 50))\n",
    "\n",
    "A = Q_0 @ R_0"
   ]
  },
  {
   "cell_type": "markdown",
   "id": "ef8d2112",
   "metadata": {},
   "source": [
    "Нужно понимать, что для создателей алгоритма было важно при его реализации. Что миниммизирует numpy? \n",
    "\n",
    "а) $||QR - A|| \\to \\min$\n",
    "\n",
    "б) $||R - R_0|| \\to \\min$\n",
    "\n",
    "в) $||Q - Q_0|| \\to \\min$\n",
    "\n",
    "г) $||Q^TQ - I|| \\to \\min$"
   ]
  },
  {
   "cell_type": "code",
   "execution_count": 76,
   "id": "0de53b58",
   "metadata": {},
   "outputs": [],
   "source": [
    "Q, R = sla.qr(A)"
   ]
  },
  {
   "cell_type": "code",
   "execution_count": 77,
   "id": "38b970c8",
   "metadata": {},
   "outputs": [
    {
     "name": "stdout",
     "output_type": "stream",
     "text": [
      "2.1986329687239696e-14\n"
     ]
    }
   ],
   "source": [
    "print(sla.norm(A - Q @ R))"
   ]
  },
  {
   "cell_type": "code",
   "execution_count": 78,
   "id": "cdf46180",
   "metadata": {},
   "outputs": [
    {
     "name": "stdout",
     "output_type": "stream",
     "text": [
      "0.00035753279131478803\n"
     ]
    }
   ],
   "source": [
    "print(sla.norm(R_0 - R))"
   ]
  },
  {
   "cell_type": "code",
   "execution_count": 79,
   "id": "c222d8e3",
   "metadata": {},
   "outputs": [
    {
     "name": "stdout",
     "output_type": "stream",
     "text": [
      "0.00030199676864346047\n"
     ]
    }
   ],
   "source": [
    "print(sla.norm(Q_0 - Q))"
   ]
  },
  {
   "cell_type": "code",
   "execution_count": 80,
   "id": "4d2331ad",
   "metadata": {},
   "outputs": [
    {
     "name": "stdout",
     "output_type": "stream",
     "text": [
      "4.78699851866098e-15\n"
     ]
    }
   ],
   "source": [
    "print(sla.norm(Q.T.dot(Q) - np.eye(50)))"
   ]
  },
  {
   "cell_type": "markdown",
   "id": "df024fdb",
   "metadata": {},
   "source": [
    "  "
   ]
  }
 ],
 "metadata": {
  "kernelspec": {
   "display_name": "Python 3 (ipykernel)",
   "language": "python",
   "name": "python3"
  },
  "language_info": {
   "codemirror_mode": {
    "name": "ipython",
    "version": 3
   },
   "file_extension": ".py",
   "mimetype": "text/x-python",
   "name": "python",
   "nbconvert_exporter": "python",
   "pygments_lexer": "ipython3",
   "version": "3.10.9"
  }
 },
 "nbformat": 4,
 "nbformat_minor": 5
}
